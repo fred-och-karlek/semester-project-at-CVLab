{
 "cells": [
  {
   "cell_type": "code",
   "execution_count": 10,
   "metadata": {},
   "outputs": [],
   "source": [
    "import os\n",
    "import numpy as np"
   ]
  },
  {
   "cell_type": "code",
   "execution_count": 23,
   "metadata": {},
   "outputs": [],
   "source": [
    "path = '/Users/eddie/Desktop/Semester_Project/demo_test/keyboard_logs'"
   ]
  },
  {
   "cell_type": "code",
   "execution_count": 4,
   "metadata": {},
   "outputs": [],
   "source": [
    "file_name = os.listdir(path)"
   ]
  },
  {
   "cell_type": "code",
   "execution_count": 5,
   "metadata": {},
   "outputs": [
    {
     "data": {
      "text/plain": [
       "list"
      ]
     },
     "execution_count": 5,
     "metadata": {},
     "output_type": "execute_result"
    }
   ],
   "source": [
    "type(file_name)"
   ]
  },
  {
   "cell_type": "code",
   "execution_count": 7,
   "metadata": {},
   "outputs": [
    {
     "data": {
      "text/plain": [
       "\"['Text4.1_INPUT_SEQUENCE.txt']\""
      ]
     },
     "execution_count": 7,
     "metadata": {},
     "output_type": "execute_result"
    }
   ],
   "source": [
    "str(file_name)"
   ]
  },
  {
   "cell_type": "code",
   "execution_count": 8,
   "metadata": {},
   "outputs": [
    {
     "name": "stdout",
     "output_type": "stream",
     "text": [
      "Text4.1_INPUT_SEQUENCE.txt\n"
     ]
    }
   ],
   "source": [
    "print(file_name[0])"
   ]
  },
  {
   "cell_type": "code",
   "execution_count": 24,
   "metadata": {},
   "outputs": [],
   "source": [
    "path = path +'/'+ file_name[0]\n"
   ]
  },
  {
   "cell_type": "code",
   "execution_count": 27,
   "metadata": {},
   "outputs": [
    {
     "ename": "SyntaxError",
     "evalue": "invalid token (<ipython-input-27-a59bc113b2e4>, line 1)",
     "output_type": "error",
     "traceback": [
      "\u001b[0;36m  File \u001b[0;32m\"<ipython-input-27-a59bc113b2e4>\"\u001b[0;36m, line \u001b[0;32m1\u001b[0m\n\u001b[0;31m    Users/eddie/Desktop/Semester_Project/demo_test/keyboard_logs/Text4.1_INPUT_SEQUENCE.txt()\u001b[0m\n\u001b[0m                                                                        ^\u001b[0m\n\u001b[0;31mSyntaxError\u001b[0m\u001b[0;31m:\u001b[0m invalid token\n"
     ]
    }
   ],
   "source": [
    "/Users/eddie/Desktop/Semester_Project/demo_test/keyboard_logs/Text4.1_INPUT_SEQUENCE.txt\n"
   ]
  },
  {
   "cell_type": "code",
   "execution_count": 30,
   "metadata": {},
   "outputs": [],
   "source": [
    "def load_keys():\n",
    "    keys = []\n",
    "    path = '/Users/eddie/Desktop/Semester_Project/demo_test/keyboard_logs'\n",
    "    file_name = os.listdir(path)\n",
    "    path = path +'/'+ file_name[0]\n",
    "\n",
    "    with open(path, 'r') as f:\n",
    "        data = f.readlines()\n",
    "        for line in data:\n",
    "            key = line.split(\",\")\n",
    "            keys.append(key)\n",
    "    return keys"
   ]
  },
  {
   "cell_type": "code",
   "execution_count": 31,
   "metadata": {},
   "outputs": [],
   "source": [
    "keys = load_keys()"
   ]
  },
  {
   "cell_type": "code",
   "execution_count": 36,
   "metadata": {},
   "outputs": [
    {
     "data": {
      "text/plain": [
       "'1568973622.6221044\\n'"
      ]
     },
     "execution_count": 36,
     "metadata": {},
     "output_type": "execute_result"
    }
   ],
   "source": [
    "keys[1][2]"
   ]
  },
  {
   "cell_type": "code",
   "execution_count": 37,
   "metadata": {},
   "outputs": [
    {
     "data": {
      "text/plain": [
       "1568973622.6221044"
      ]
     },
     "execution_count": 37,
     "metadata": {},
     "output_type": "execute_result"
    }
   ],
   "source": [
    "float(keys[1][2])"
   ]
  },
  {
   "cell_type": "code",
   "execution_count": 75,
   "metadata": {},
   "outputs": [],
   "source": [
    "\n",
    "def valid_keys(keys):\n",
    "    result = []\n",
    "    for key in keys:\n",
    "        key[2] = float(key[2])\n",
    "        key_dict = {'action':key[0],'ID':key[1],'time' : key[2]}\n",
    "        result.append(key_dict)\n",
    "    return result\n"
   ]
  },
  {
   "cell_type": "code",
   "execution_count": 76,
   "metadata": {},
   "outputs": [],
   "source": [
    "t = valid_keys(keys)"
   ]
  },
  {
   "cell_type": "code",
   "execution_count": 77,
   "metadata": {},
   "outputs": [
    {
     "name": "stdout",
     "output_type": "stream",
     "text": [
      "{'action': 'PRESS', 'ID': '16777252', 'time': 1568973622.4835722}\n"
     ]
    }
   ],
   "source": [
    "print(t[0])"
   ]
  },
  {
   "cell_type": "code",
   "execution_count": 56,
   "metadata": {},
   "outputs": [
    {
     "name": "stdout",
     "output_type": "stream",
     "text": [
      "{'action': 'PRESS', 'ID': '16777252', 'time': 1568973622.4835722}\n",
      "{'action': 'RELEASE', 'ID': '16777252', 'time': 1568973622.6221044}\n",
      "{'action': 'PRESS', 'ID': '67', 'time': 1568973622.725478}\n",
      "{'action': 'PRESS', 'ID': '16777252', 'time': 1568973622.8132055}\n",
      "{'action': 'RELEASE', 'ID': '67', 'time': 1568973622.8559911}\n",
      "{'action': 'RELEASE', 'ID': '16777252', 'time': 1568973623.0150502}\n",
      "{'action': 'PRESS', 'ID': '65', 'time': 1568973623.373174}\n",
      "{'action': 'RELEASE', 'ID': '65', 'time': 1568973623.508042}\n",
      "{'action': 'PRESS', 'ID': '83', 'time': 1568973623.7872405}\n",
      "{'action': 'RELEASE', 'ID': '83', 'time': 1568973623.8690064}\n",
      "{'action': 'PRESS', 'ID': '69', 'time': 1568973623.9542832}\n",
      "{'action': 'RELEASE', 'ID': '69', 'time': 1568973624.0890956}\n",
      "{'action': 'PRESS', 'ID': '32', 'time': 1568973624.1142187}\n",
      "{'action': 'RELEASE', 'ID': '32', 'time': 1568973624.2340183}\n",
      "{'action': 'PRESS', 'ID': '82', 'time': 1568973624.4212823}\n",
      "{'action': 'RELEASE', 'ID': '82', 'time': 1568973624.5489368}\n",
      "{'action': 'PRESS', 'ID': '69', 'time': 1568973624.6052446}\n",
      "{'action': 'RELEASE', 'ID': '69', 'time': 1568973624.7200625}\n",
      "{'action': 'PRESS', 'ID': '65', 'time': 1568973624.766329}\n",
      "{'action': 'PRESS', 'ID': '68', 'time': 1568973624.8624597}\n",
      "{'action': 'RELEASE', 'ID': '65', 'time': 1568973624.915017}\n",
      "{'action': 'RELEASE', 'ID': '68', 'time': 1568973624.9850996}\n",
      "{'action': 'PRESS', 'ID': '32', 'time': 1568973625.3192134}\n",
      "{'action': 'RELEASE', 'ID': '32', 'time': 1568973625.4409096}\n",
      "{'action': 'PRESS', 'ID': '84', 'time': 1568973625.547284}\n",
      "{'action': 'RELEASE', 'ID': '84', 'time': 1568973625.673091}\n",
      "{'action': 'PRESS', 'ID': '72', 'time': 1568973625.6812615}\n",
      "{'action': 'PRESS', 'ID': '69', 'time': 1568973625.7932692}\n",
      "{'action': 'RELEASE', 'ID': '72', 'time': 1568973625.8050075}\n",
      "{'action': 'RELEASE', 'ID': '69', 'time': 1568973625.9069333}\n",
      "{'action': 'PRESS', 'ID': '84', 'time': 1568973625.9592023}\n",
      "{'action': 'PRESS', 'ID': '89', 'time': 1568973625.979159}\n",
      "{'action': 'RELEASE', 'ID': '89', 'time': 1568973626.0450475}\n",
      "{'action': 'RELEASE', 'ID': '84', 'time': 1568973626.0570455}\n",
      "{'action': 'PRESS', 'ID': '16777219', 'time': 1568973626.4493055}\n",
      "{'action': 'RELEASE', 'ID': '16777219', 'time': 1568973626.5630891}\n",
      "{'action': 'PRESS', 'ID': '16777219', 'time': 1568973626.6131475}\n",
      "{'action': 'RELEASE', 'ID': '16777219', 'time': 1568973626.706003}\n",
      "{'action': 'PRESS', 'ID': '89', 'time': 1568973626.8792253}\n",
      "{'action': 'RELEASE', 'ID': '89', 'time': 1568973626.9670274}\n",
      "{'action': 'PRESS', 'ID': '32', 'time': 1568973627.0402534}\n",
      "{'action': 'RELEASE', 'ID': '32', 'time': 1568973627.1890414}\n",
      "{'action': 'PRESS', 'ID': '44', 'time': 1568973627.7222884}\n",
      "{'action': 'PRESS', 'ID': '77', 'time': 1568973627.7230535}\n",
      "{'action': 'RELEASE', 'ID': '44', 'time': 1568973627.766023}\n",
      "{'action': 'RELEASE', 'ID': '77', 'time': 1568973627.7960687}\n",
      "{'action': 'PRESS', 'ID': '16777219', 'time': 1568973628.5152113}\n",
      "{'action': 'RELEASE', 'ID': '16777219', 'time': 1568973628.6050396}\n",
      "{'action': 'PRESS', 'ID': '16777219', 'time': 1568973628.657229}\n",
      "{'action': 'RELEASE', 'ID': '16777219', 'time': 1568973628.75609}\n",
      "{'action': 'PRESS', 'ID': '77', 'time': 1568973628.8862896}\n",
      "{'action': 'RELEASE', 'ID': '77', 'time': 1568973629.000062}\n",
      "{'action': 'PRESS', 'ID': '85', 'time': 1568973629.1752303}\n",
      "{'action': 'RELEASE', 'ID': '85', 'time': 1568973629.2869883}\n",
      "{'action': 'PRESS', 'ID': '83', 'time': 1568973629.38226}\n",
      "{'action': 'RELEASE', 'ID': '83', 'time': 1568973629.4880672}\n",
      "{'action': 'PRESS', 'ID': '84', 'time': 1568973629.6863565}\n",
      "{'action': 'RELEASE', 'ID': '84', 'time': 1568973629.8150947}\n",
      "{'action': 'PRESS', 'ID': '32', 'time': 1568973629.8962572}\n",
      "{'action': 'RELEASE', 'ID': '32', 'time': 1568973630.01409}\n",
      "{'action': 'PRESS', 'ID': '73', 'time': 1568973630.301263}\n",
      "{'action': 'RELEASE', 'ID': '73', 'time': 1568973630.4290469}\n",
      "{'action': 'PRESS', 'ID': '84', 'time': 1568973630.5033185}\n",
      "{'action': 'PRESS', 'ID': '82', 'time': 1568973630.505208}\n",
      "{'action': 'RELEASE', 'ID': '84', 'time': 1568973630.6129787}\n",
      "{'action': 'RELEASE', 'ID': '82', 'time': 1568973630.6229775}\n",
      "{'action': 'PRESS', 'ID': '16777219', 'time': 1568973631.0183492}\n",
      "{'action': 'RELEASE', 'ID': '16777219', 'time': 1568973631.1200325}\n",
      "{'action': 'PRESS', 'ID': '32', 'time': 1568973631.152256}\n",
      "{'action': 'PRESS', 'ID': '79', 'time': 1568973631.2883027}\n",
      "{'action': 'RELEASE', 'ID': '32', 'time': 1568973631.3091455}\n",
      "{'action': 'PRESS', 'ID': '70', 'time': 1568973631.3933232}\n",
      "{'action': 'RELEASE', 'ID': '79', 'time': 1568973631.3970544}\n",
      "{'action': 'RELEASE', 'ID': '70', 'time': 1568973631.5320907}\n",
      "{'action': 'PRESS', 'ID': '32', 'time': 1568973631.5882616}\n",
      "{'action': 'RELEASE', 'ID': '32', 'time': 1568973631.6989844}\n",
      "{'action': 'PRESS', 'ID': '67', 'time': 1568973632.1123335}\n",
      "{'action': 'RELEASE', 'ID': '67', 'time': 1568973632.219101}\n",
      "{'action': 'PRESS', 'ID': '79', 'time': 1568973632.2654123}\n",
      "{'action': 'RELEASE', 'ID': '79', 'time': 1568973632.3691626}\n",
      "{'action': 'PRESS', 'ID': '76', 'time': 1568973632.4352877}\n",
      "{'action': 'PRESS', 'ID': '68', 'time': 1568973632.559315}\n",
      "{'action': 'RELEASE', 'ID': '76', 'time': 1568973632.566121}\n",
      "{'action': 'RELEASE', 'ID': '68', 'time': 1568973632.6930673}\n",
      "{'action': 'PRESS', 'ID': '32', 'time': 1568973632.785309}\n",
      "{'action': 'RELEASE', 'ID': '32', 'time': 1568973632.902296}\n",
      "{'action': 'PRESS', 'ID': '84', 'time': 1568973633.3732748}\n",
      "{'action': 'RELEASE', 'ID': '84', 'time': 1568973633.4740493}\n",
      "{'action': 'PRESS', 'ID': '72', 'time': 1568973633.477307}\n",
      "{'action': 'RELEASE', 'ID': '72', 'time': 1568973633.583141}\n",
      "{'action': 'PRESS', 'ID': '65', 'time': 1568973633.6131876}\n",
      "{'action': 'RELEASE', 'ID': '65', 'time': 1568973633.7270627}\n",
      "{'action': 'PRESS', 'ID': '84', 'time': 1568973633.7352195}\n",
      "{'action': 'RELEASE', 'ID': '84', 'time': 1568973633.825116}\n",
      "{'action': 'PRESS', 'ID': '46', 'time': 1568973634.6692705}\n",
      "{'action': 'RELEASE', 'ID': '46', 'time': 1568973634.7761185}\n",
      "{'action': 'PRESS', 'ID': '32', 'time': 1568973634.8462865}\n",
      "{'action': 'RELEASE', 'ID': '32', 'time': 1568973634.9451182}\n",
      "{'action': 'PRESS', 'ID': '16777252', 'time': 1568973634.9844515}\n",
      "{'action': 'RELEASE', 'ID': '16777252', 'time': 1568973635.1150713}\n",
      "{'action': 'PRESS', 'ID': '65', 'time': 1568973635.152278}\n",
      "{'action': 'RELEASE', 'ID': '65', 'time': 1568973635.2770553}\n",
      "{'action': 'PRESS', 'ID': '16777252', 'time': 1568973635.388245}\n",
      "{'action': 'RELEASE', 'ID': '16777252', 'time': 1568973635.4801786}\n",
      "{'action': 'PRESS', 'ID': '16777252', 'time': 1568973635.7533667}\n",
      "{'action': 'RELEASE', 'ID': '16777252', 'time': 1568973635.8631992}\n",
      "{'action': 'PRESS', 'ID': '83', 'time': 1568973635.966387}\n",
      "{'action': 'RELEASE', 'ID': '83', 'time': 1568973636.069137}\n",
      "{'action': 'PRESS', 'ID': '16777219', 'time': 1568973636.2373028}\n",
      "{'action': 'RELEASE', 'ID': '16777219', 'time': 1568973636.348143}\n",
      "{'action': 'PRESS', 'ID': '16777219', 'time': 1568973636.4123075}\n",
      "{'action': 'RELEASE', 'ID': '16777219', 'time': 1568973636.5091383}\n",
      "{'action': 'PRESS', 'ID': '16777252', 'time': 1568973636.6484344}\n",
      "{'action': 'RELEASE', 'ID': '16777252', 'time': 1568973636.7922037}\n",
      "{'action': 'PRESS', 'ID': '16777252', 'time': 1568973637.3225102}\n",
      "{'action': 'RELEASE', 'ID': '16777252', 'time': 1568973637.4481878}\n",
      "{'action': 'PRESS', 'ID': '83', 'time': 1568973637.5533369}\n",
      "{'action': 'PRESS', 'ID': '16777252', 'time': 1568973637.6453922}\n",
      "{'action': 'RELEASE', 'ID': '83', 'time': 1568973637.6741245}\n",
      "{'action': 'RELEASE', 'ID': '16777252', 'time': 1568973637.7832015}\n",
      "{'action': 'PRESS', 'ID': '65', 'time': 1568973637.843323}\n",
      "{'action': 'RELEASE', 'ID': '65', 'time': 1568973637.9720826}\n",
      "{'action': 'PRESS', 'ID': '16777219', 'time': 1568973638.3233256}\n",
      "{'action': 'RELEASE', 'ID': '16777219', 'time': 1568973638.4221792}\n",
      "{'action': 'PRESS', 'ID': '80', 'time': 1568973638.5273147}\n",
      "{'action': 'RELEASE', 'ID': '80', 'time': 1568973638.6251035}\n",
      "{'action': 'PRESS', 'ID': '69', 'time': 1568973638.702278}\n",
      "{'action': 'PRESS', 'ID': '65', 'time': 1568973638.823432}\n",
      "{'action': 'RELEASE', 'ID': '69', 'time': 1568973638.8290703}\n",
      "{'action': 'RELEASE', 'ID': '65', 'time': 1568973638.968159}\n",
      "{'action': 'PRESS', 'ID': '76', 'time': 1568973639.0354078}\n",
      "{'action': 'RELEASE', 'ID': '76', 'time': 1568973639.1371326}\n",
      "{'action': 'PRESS', 'ID': '73', 'time': 1568973639.2734}\n",
      "{'action': 'RELEASE', 'ID': '73', 'time': 1568973639.3841662}\n",
      "{'action': 'PRESS', 'ID': '16777219', 'time': 1568973639.6793623}\n",
      "{'action': 'RELEASE', 'ID': '16777219', 'time': 1568973639.7720735}\n",
      "{'action': 'PRESS', 'ID': '16777219', 'time': 1568973639.8132906}\n",
      "{'action': 'RELEASE', 'ID': '16777219', 'time': 1568973639.9180396}\n",
      "{'action': 'PRESS', 'ID': '76', 'time': 1568973640.4133122}\n",
      "{'action': 'RELEASE', 'ID': '76', 'time': 1568973640.5132444}\n",
      "{'action': 'PRESS', 'ID': '16777219', 'time': 1568973640.6932688}\n",
      "{'action': 'RELEASE', 'ID': '16777219', 'time': 1568973640.7811673}\n",
      "{'action': 'PRESS', 'ID': '75', 'time': 1568973640.8923612}\n",
      "{'action': 'RELEASE', 'ID': '75', 'time': 1568973640.9821234}\n",
      "{'action': 'PRESS', 'ID': '73', 'time': 1568973641.0533924}\n",
      "{'action': 'RELEASE', 'ID': '73', 'time': 1568973641.173151}\n",
      "{'action': 'PRESS', 'ID': '78', 'time': 1568973641.1813855}\n",
      "{'action': 'PRESS', 'ID': '71', 'time': 1568973641.2373686}\n",
      "{'action': 'RELEASE', 'ID': '78', 'time': 1568973641.288157}\n",
      "{'action': 'RELEASE', 'ID': '71', 'time': 1568973641.349187}\n",
      "{'action': 'PRESS', 'ID': '32', 'time': 1568973641.419435}\n",
      "{'action': 'RELEASE', 'ID': '32', 'time': 1568973641.5242121}\n",
      "{'action': 'PRESS', 'ID': '84', 'time': 1568973642.0593514}\n",
      "{'action': 'RELEASE', 'ID': '84', 'time': 1568973642.1881847}\n",
      "{'action': 'PRESS', 'ID': '72', 'time': 1568973642.2363987}\n",
      "{'action': 'RELEASE', 'ID': '72', 'time': 1568973642.3421605}\n",
      "{'action': 'PRESS', 'ID': '82', 'time': 1568973642.3933856}\n",
      "{'action': 'RELEASE', 'ID': '82', 'time': 1568973642.5031497}\n",
      "{'action': 'PRESS', 'ID': '73', 'time': 1568973642.5324543}\n",
      "{'action': 'RELEASE', 'ID': '73', 'time': 1568973642.649205}\n",
      "{'action': 'PRESS', 'ID': '70', 'time': 1568973643.1683576}\n",
      "{'action': 'RELEASE', 'ID': '70', 'time': 1568973643.2861648}\n",
      "{'action': 'PRESS', 'ID': '76', 'time': 1568973643.50734}\n",
      "{'action': 'RELEASE', 'ID': '76', 'time': 1568973643.6152258}\n",
      "{'action': 'PRESS', 'ID': '73', 'time': 1568973643.665385}\n",
      "{'action': 'RELEASE', 'ID': '73', 'time': 1568973643.7790704}\n",
      "{'action': 'PRESS', 'ID': '78', 'time': 1568973643.7873247}\n",
      "{'action': 'PRESS', 'ID': '71', 'time': 1568973643.8335123}\n",
      "{'action': 'RELEASE', 'ID': '78', 'time': 1568973643.9071727}\n",
      "{'action': 'RELEASE', 'ID': '71', 'time': 1568973643.9692268}\n",
      "{'action': 'PRESS', 'ID': '32', 'time': 1568973644.0074334}\n",
      "{'action': 'RELEASE', 'ID': '32', 'time': 1568973644.089153}\n",
      "{'action': 'PRESS', 'ID': '65', 'time': 1568973644.4133885}\n",
      "{'action': 'PRESS', 'ID': '78', 'time': 1568973644.4973693}\n",
      "{'action': 'RELEASE', 'ID': '65', 'time': 1568973644.5122309}\n",
      "{'action': 'RELEASE', 'ID': '78', 'time': 1568973644.5941217}\n",
      "{'action': 'PRESS', 'ID': '32', 'time': 1568973644.6184893}\n",
      "{'action': 'RELEASE', 'ID': '32', 'time': 1568973644.7171772}\n",
      "{'action': 'PRESS', 'ID': '84', 'time': 1568973644.8174691}\n",
      "{'action': 'PRESS', 'ID': '79', 'time': 1568973644.8733711}\n",
      "{'action': 'RELEASE', 'ID': '84', 'time': 1568973644.9281917}\n",
      "{'action': 'RELEASE', 'ID': '79', 'time': 1568973644.977181}\n",
      "{'action': 'PRESS', 'ID': '32', 'time': 1568973645.0394366}\n",
      "{'action': 'RELEASE', 'ID': '32', 'time': 1568973645.1270897}\n",
      "{'action': 'PRESS', 'ID': '85', 'time': 1568973645.7564178}\n",
      "{'action': 'RELEASE', 'ID': '85', 'time': 1568973645.8892148}\n",
      "{'action': 'PRESS', 'ID': '85', 'time': 1568973646.2163706}\n",
      "{'action': 'RELEASE', 'ID': '85', 'time': 1568973646.3222473}\n",
      "{'action': 'PRESS', 'ID': '16777219', 'time': 1568973646.61241}\n",
      "{'action': 'RELEASE', 'ID': '16777219', 'time': 1568973646.7152207}\n",
      "{'action': 'PRESS', 'ID': '80', 'time': 1568973646.80338}\n",
      "{'action': 'RELEASE', 'ID': '80', 'time': 1568973646.9161685}\n",
      "{'action': 'PRESS', 'ID': '16777219', 'time': 1568973647.5424283}\n",
      "{'action': 'RELEASE', 'ID': '16777219', 'time': 1568973647.654197}\n",
      "{'action': 'PRESS', 'ID': '78', 'time': 1568973647.8293197}\n",
      "{'action': 'RELEASE', 'ID': '78', 'time': 1568973647.9261863}\n",
      "{'action': 'PRESS', 'ID': '32', 'time': 1568973648.3484073}\n",
      "{'action': 'PRESS', 'ID': '80', 'time': 1568973648.4393888}\n",
      "{'action': 'RELEASE', 'ID': '32', 'time': 1568973648.467198}\n",
      "{'action': 'PRESS', 'ID': '65', 'time': 1568973648.5445273}\n",
      "{'action': 'RELEASE', 'ID': '80', 'time': 1568973648.5463352}\n",
      "{'action': 'RELEASE', 'ID': '65', 'time': 1568973648.6812007}\n",
      "{'action': 'PRESS', 'ID': '78', 'time': 1568973648.6964083}\n",
      "{'action': 'RELEASE', 'ID': '78', 'time': 1568973648.7862215}\n",
      "{'action': 'PRESS', 'ID': '16777219', 'time': 1568973649.66938}\n",
      "{'action': 'PRESS', 'ID': '67', 'time': 1568973649.7384064}\n",
      "{'action': 'RELEASE', 'ID': '16777219', 'time': 1568973649.754276}\n",
      "{'action': 'RELEASE', 'ID': '67', 'time': 1568973649.8752236}\n",
      "{'action': 'PRESS', 'ID': '75', 'time': 1568973650.9333773}\n",
      "{'action': 'RELEASE', 'ID': '75', 'time': 1568973651.068238}\n",
      "{'action': 'PRESS', 'ID': '69', 'time': 1568973651.4635303}\n",
      "{'action': 'PRESS', 'ID': '68', 'time': 1568973651.5404499}\n",
      "{'action': 'RELEASE', 'ID': '69', 'time': 1568973651.5891676}\n",
      "{'action': 'RELEASE', 'ID': '68', 'time': 1568973651.6854765}\n",
      "{'action': 'PRESS', 'ID': '16777234', 'time': 1568973652.346433}\n",
      "{'action': 'RELEASE', 'ID': '16777234', 'time': 1568973652.84643}\n",
      "{'action': 'PRESS', 'ID': '16777234', 'time': 1568973652.8464692}\n",
      "{'action': 'RELEASE', 'ID': '16777234', 'time': 1568973652.8762848}\n",
      "{'action': 'PRESS', 'ID': '16777234', 'time': 1568973652.876312}\n",
      "{'action': 'RELEASE', 'ID': '16777234', 'time': 1568973652.90667}\n",
      "{'action': 'PRESS', 'ID': '16777234', 'time': 1568973652.9066992}\n",
      "{'action': 'RELEASE', 'ID': '16777234', 'time': 1568973652.9370618}\n",
      "{'action': 'PRESS', 'ID': '16777234', 'time': 1568973652.9370904}\n",
      "{'action': 'RELEASE', 'ID': '16777234', 'time': 1568973652.967449}\n",
      "{'action': 'PRESS', 'ID': '16777234', 'time': 1568973652.9674757}\n",
      "{'action': 'RELEASE', 'ID': '16777234', 'time': 1568973652.9691205}\n",
      "{'action': 'PRESS', 'ID': '16777234', 'time': 1568973653.1784806}\n",
      "{'action': 'RELEASE', 'ID': '16777234', 'time': 1568973653.269151}\n",
      "{'action': 'PRESS', 'ID': '16777236', 'time': 1568973653.4203908}\n",
      "{'action': 'RELEASE', 'ID': '16777236', 'time': 1568973653.5522914}\n",
      "{'action': 'PRESS', 'ID': '16777219', 'time': 1568973653.7215562}\n",
      "{'action': 'RELEASE', 'ID': '16777219', 'time': 1568973653.8152397}\n",
      "{'action': 'PRESS', 'ID': '32', 'time': 1568973655.928438}\n",
      "{'action': 'RELEASE', 'ID': '32', 'time': 1568973656.0692835}\n",
      "{'action': 'PRESS', 'ID': '77', 'time': 1568973656.6754637}\n",
      "{'action': 'RELEASE', 'ID': '77', 'time': 1568973656.7862859}\n",
      "{'action': 'PRESS', 'ID': '79', 'time': 1568973656.8134274}\n",
      "{'action': 'RELEASE', 'ID': '79', 'time': 1568973656.9282396}\n",
      "{'action': 'PRESS', 'ID': '68', 'time': 1568973656.9874754}\n",
      "{'action': 'PRESS', 'ID': '69', 'time': 1568973657.074501}\n",
      "{'action': 'RELEASE', 'ID': '68', 'time': 1568973657.1583374}\n",
      "{'action': 'RELEASE', 'ID': '69', 'time': 1568973657.225276}\n",
      "{'action': 'PRESS', 'ID': '82', 'time': 1568973657.6634102}\n",
      "{'action': 'RELEASE', 'ID': '82', 'time': 1568973657.7671816}\n",
      "{'action': 'PRESS', 'ID': '65', 'time': 1568973657.8474014}\n",
      "{'action': 'RELEASE', 'ID': '65', 'time': 1568973657.9493034}\n",
      "{'action': 'PRESS', 'ID': '84', 'time': 1568973658.0824795}\n",
      "{'action': 'RELEASE', 'ID': '84', 'time': 1568973658.180351}\n",
      "{'action': 'PRESS', 'ID': '69', 'time': 1568973658.2225347}\n",
      "{'action': 'RELEASE', 'ID': '69', 'time': 1568973658.3552403}\n",
      "{'action': 'PRESS', 'ID': '32', 'time': 1568973658.3794298}\n",
      "{'action': 'RELEASE', 'ID': '32', 'time': 1568973658.5022056}\n",
      "{'action': 'PRESS', 'ID': '68', 'time': 1568973658.7224562}\n",
      "{'action': 'RELEASE', 'ID': '68', 'time': 1568973658.8383543}\n",
      "{'action': 'PRESS', 'ID': '87', 'time': 1568973659.6024373}\n",
      "{'action': 'PRESS', 'ID': '69', 'time': 1568973659.613635}\n",
      "{'action': 'RELEASE', 'ID': '87', 'time': 1568973659.693247}\n",
      "{'action': 'RELEASE', 'ID': '69', 'time': 1568973659.7202845}\n",
      "{'action': 'PRESS', 'ID': '16777219', 'time': 1568973659.9544883}\n",
      "{'action': 'RELEASE', 'ID': '16777219', 'time': 1568973660.0603592}\n",
      "{'action': 'PRESS', 'ID': '16777219', 'time': 1568973660.10052}\n",
      "{'action': 'PRESS', 'ID': '69', 'time': 1568973660.1824594}\n",
      "{'action': 'RELEASE', 'ID': '16777219', 'time': 1568973660.1983247}\n",
      "{'action': 'RELEASE', 'ID': '69', 'time': 1568973660.2892344}\n",
      "{'action': 'PRESS', 'ID': '32', 'time': 1568973660.333624}\n",
      "{'action': 'RELEASE', 'ID': '32', 'time': 1568973660.4673405}\n",
      "{'action': 'PRESS', 'ID': '66', 'time': 1568973660.5455334}\n",
      "{'action': 'RELEASE', 'ID': '66', 'time': 1568973660.6534061}\n",
      "{'action': 'PRESS', 'ID': '16777219', 'time': 1568973660.842522}\n",
      "{'action': 'RELEASE', 'ID': '16777219', 'time': 1568973660.9273143}\n",
      "{'action': 'PRESS', 'ID': '16777219', 'time': 1568973660.9764302}\n",
      "{'action': 'RELEASE', 'ID': '16777219', 'time': 1568973661.0553718}\n",
      "{'action': 'PRESS', 'ID': '66', 'time': 1568973661.2045906}\n",
      "{'action': 'RELEASE', 'ID': '66', 'time': 1568973661.294328}\n",
      "{'action': 'PRESS', 'ID': '65', 'time': 1568973661.326551}\n",
      "{'action': 'RELEASE', 'ID': '65', 'time': 1568973661.423274}\n",
      "{'action': 'PRESS', 'ID': '84', 'time': 1568973661.9174867}\n",
      "{'action': 'RELEASE', 'ID': '84', 'time': 1568973662.0363193}\n",
      "{'action': 'PRESS', 'ID': '69', 'time': 1568973662.1435876}\n",
      "{'action': 'RELEASE', 'ID': '69', 'time': 1568973662.2543182}\n",
      "{'action': 'PRESS', 'ID': '16777219', 'time': 1568973663.1555574}\n",
      "{'action': 'RELEASE', 'ID': '16777219', 'time': 1568973663.257372}\n",
      "{'action': 'PRESS', 'ID': '79', 'time': 1568973663.3555074}\n",
      "{'action': 'PRESS', 'ID': '73', 'time': 1568973663.3725107}\n",
      "{'action': 'RELEASE', 'ID': '73', 'time': 1568973663.4344044}\n",
      "{'action': 'RELEASE', 'ID': '79', 'time': 1568973663.4483402}\n",
      "{'action': 'PRESS', 'ID': '16777219', 'time': 1568973663.824588}\n",
      "{'action': 'RELEASE', 'ID': '16777219', 'time': 1568973663.912328}\n",
      "{'action': 'PRESS', 'ID': '16777219', 'time': 1568973663.9675245}\n",
      "{'action': 'RELEASE', 'ID': '16777219', 'time': 1568973664.0413287}\n",
      "{'action': 'PRESS', 'ID': '73', 'time': 1568973664.181521}\n",
      "{'action': 'PRESS', 'ID': '78', 'time': 1568973664.2835412}\n",
      "{'action': 'RELEASE', 'ID': '73', 'time': 1568973664.294373}\n",
      "{'action': 'PRESS', 'ID': '71', 'time': 1568973664.3755794}\n",
      "{'action': 'RELEASE', 'ID': '78', 'time': 1568973664.39441}\n",
      "{'action': 'RELEASE', 'ID': '71', 'time': 1568973664.4893196}\n",
      "{'action': 'PRESS', 'ID': '32', 'time': 1568973664.5276098}\n",
      "{'action': 'RELEASE', 'ID': '32', 'time': 1568973664.6523547}\n",
      "{'action': 'PRESS', 'ID': '76', 'time': 1568973664.9686239}\n",
      "{'action': 'RELEASE', 'ID': '76', 'time': 1568973665.1063616}\n",
      "{'action': 'PRESS', 'ID': '69', 'time': 1568973665.1225336}\n",
      "{'action': 'PRESS', 'ID': '65', 'time': 1568973665.2554533}\n",
      "{'action': 'RELEASE', 'ID': '69', 'time': 1568973665.3222673}\n",
      "{'action': 'RELEASE', 'ID': '65', 'time': 1568973665.4293087}\n",
      "{'action': 'PRESS', 'ID': '82', 'time': 1568973665.7655401}\n",
      "{'action': 'RELEASE', 'ID': '82', 'time': 1568973665.8952756}\n",
      "{'action': 'PRESS', 'ID': '78', 'time': 1568973665.9465997}\n",
      "{'action': 'RELEASE', 'ID': '78', 'time': 1568973666.0683215}\n",
      "{'action': 'PRESS', 'ID': '73', 'time': 1568973666.1846857}\n",
      "{'action': 'PRESS', 'ID': '78', 'time': 1568973666.3136144}\n",
      "{'action': 'RELEASE', 'ID': '73', 'time': 1568973666.319259}\n",
      "{'action': 'PRESS', 'ID': '71', 'time': 1568973666.4044828}\n",
      "{'action': 'RELEASE', 'ID': '78', 'time': 1568973666.4182858}\n",
      "{'action': 'RELEASE', 'ID': '71', 'time': 1568973666.5434363}\n",
      "{'action': 'PRESS', 'ID': '32', 'time': 1568973666.5436742}\n",
      "{'action': 'RELEASE', 'ID': '32', 'time': 1568973666.6202636}\n"
     ]
    }
   ],
   "source": [
    "a = []\n",
    "for key in keys:\n",
    "    key[2] = float(key[2])\n",
    "    key_dict = {'action':key[0],'ID':key[1],'time' : key[2]}\n",
    "    print (key_dict)\n",
    "    a.append(key_dict)"
   ]
  },
  {
   "cell_type": "code",
   "execution_count": 74,
   "metadata": {},
   "outputs": [
    {
     "data": {
      "text/plain": [
       "<function __main__.valid_keys(keys)>"
      ]
     },
     "execution_count": 74,
     "metadata": {},
     "output_type": "execute_result"
    }
   ],
   "source": [
    "a"
   ]
  },
  {
   "cell_type": "code",
   "execution_count": 88,
   "metadata": {},
   "outputs": [
    {
     "name": "stdout",
     "output_type": "stream",
     "text": [
      "PRESS\n",
      "RELEASE\n",
      "PRESS\n",
      "PRESS\n",
      "RELEASE\n",
      "RELEASE\n",
      "PRESS\n",
      "RELEASE\n",
      "PRESS\n",
      "RELEASE\n",
      "PRESS\n",
      "RELEASE\n",
      "PRESS\n",
      "RELEASE\n",
      "PRESS\n",
      "RELEASE\n",
      "PRESS\n",
      "RELEASE\n",
      "PRESS\n",
      "PRESS\n",
      "RELEASE\n",
      "RELEASE\n",
      "PRESS\n",
      "RELEASE\n",
      "PRESS\n",
      "RELEASE\n",
      "PRESS\n",
      "PRESS\n",
      "RELEASE\n",
      "RELEASE\n",
      "PRESS\n",
      "PRESS\n",
      "RELEASE\n",
      "RELEASE\n",
      "PRESS\n",
      "RELEASE\n",
      "PRESS\n",
      "RELEASE\n",
      "PRESS\n",
      "RELEASE\n",
      "PRESS\n",
      "RELEASE\n",
      "PRESS\n",
      "PRESS\n",
      "RELEASE\n",
      "RELEASE\n",
      "PRESS\n",
      "RELEASE\n",
      "PRESS\n",
      "RELEASE\n",
      "PRESS\n",
      "RELEASE\n",
      "PRESS\n",
      "RELEASE\n",
      "PRESS\n",
      "RELEASE\n",
      "PRESS\n",
      "RELEASE\n",
      "PRESS\n",
      "RELEASE\n",
      "PRESS\n",
      "RELEASE\n",
      "PRESS\n",
      "PRESS\n",
      "RELEASE\n",
      "RELEASE\n",
      "PRESS\n",
      "RELEASE\n",
      "PRESS\n",
      "PRESS\n",
      "RELEASE\n",
      "PRESS\n",
      "RELEASE\n",
      "RELEASE\n",
      "PRESS\n",
      "RELEASE\n",
      "PRESS\n",
      "RELEASE\n",
      "PRESS\n",
      "RELEASE\n",
      "PRESS\n",
      "PRESS\n",
      "RELEASE\n",
      "RELEASE\n",
      "PRESS\n",
      "RELEASE\n",
      "PRESS\n",
      "RELEASE\n",
      "PRESS\n",
      "RELEASE\n",
      "PRESS\n",
      "RELEASE\n",
      "PRESS\n",
      "RELEASE\n",
      "PRESS\n",
      "RELEASE\n",
      "PRESS\n",
      "RELEASE\n",
      "PRESS\n",
      "RELEASE\n",
      "PRESS\n",
      "RELEASE\n",
      "PRESS\n",
      "RELEASE\n",
      "PRESS\n",
      "RELEASE\n",
      "PRESS\n",
      "RELEASE\n",
      "PRESS\n",
      "RELEASE\n",
      "PRESS\n",
      "RELEASE\n",
      "PRESS\n",
      "RELEASE\n",
      "PRESS\n",
      "RELEASE\n",
      "PRESS\n",
      "PRESS\n",
      "RELEASE\n",
      "RELEASE\n",
      "PRESS\n",
      "RELEASE\n",
      "PRESS\n",
      "RELEASE\n",
      "PRESS\n",
      "RELEASE\n",
      "PRESS\n",
      "PRESS\n",
      "RELEASE\n",
      "RELEASE\n",
      "PRESS\n",
      "RELEASE\n",
      "PRESS\n",
      "RELEASE\n",
      "PRESS\n",
      "RELEASE\n",
      "PRESS\n",
      "RELEASE\n",
      "PRESS\n",
      "RELEASE\n",
      "PRESS\n",
      "RELEASE\n",
      "PRESS\n",
      "RELEASE\n",
      "PRESS\n",
      "RELEASE\n",
      "PRESS\n",
      "PRESS\n",
      "RELEASE\n",
      "RELEASE\n",
      "PRESS\n",
      "RELEASE\n",
      "PRESS\n",
      "RELEASE\n",
      "PRESS\n",
      "RELEASE\n",
      "PRESS\n",
      "RELEASE\n",
      "PRESS\n",
      "RELEASE\n",
      "PRESS\n",
      "RELEASE\n",
      "PRESS\n",
      "RELEASE\n",
      "PRESS\n",
      "RELEASE\n",
      "PRESS\n",
      "PRESS\n",
      "RELEASE\n",
      "RELEASE\n",
      "PRESS\n",
      "RELEASE\n",
      "PRESS\n",
      "PRESS\n",
      "RELEASE\n",
      "RELEASE\n",
      "PRESS\n",
      "RELEASE\n",
      "PRESS\n",
      "PRESS\n",
      "RELEASE\n",
      "RELEASE\n",
      "PRESS\n",
      "RELEASE\n",
      "PRESS\n",
      "RELEASE\n",
      "PRESS\n",
      "RELEASE\n",
      "PRESS\n",
      "RELEASE\n",
      "PRESS\n",
      "RELEASE\n",
      "PRESS\n",
      "RELEASE\n",
      "PRESS\n",
      "RELEASE\n",
      "PRESS\n",
      "PRESS\n",
      "RELEASE\n",
      "PRESS\n",
      "RELEASE\n",
      "RELEASE\n",
      "PRESS\n",
      "RELEASE\n",
      "PRESS\n",
      "PRESS\n",
      "RELEASE\n",
      "RELEASE\n",
      "PRESS\n",
      "RELEASE\n",
      "PRESS\n",
      "PRESS\n",
      "RELEASE\n",
      "RELEASE\n",
      "PRESS\n",
      "RELEASE\n",
      "PRESS\n",
      "RELEASE\n",
      "PRESS\n",
      "RELEASE\n",
      "PRESS\n",
      "RELEASE\n",
      "PRESS\n",
      "RELEASE\n",
      "PRESS\n",
      "RELEASE\n",
      "PRESS\n",
      "RELEASE\n",
      "PRESS\n",
      "RELEASE\n",
      "PRESS\n",
      "RELEASE\n",
      "PRESS\n",
      "RELEASE\n",
      "PRESS\n",
      "RELEASE\n",
      "PRESS\n",
      "RELEASE\n",
      "PRESS\n",
      "PRESS\n",
      "RELEASE\n",
      "RELEASE\n",
      "PRESS\n",
      "RELEASE\n",
      "PRESS\n",
      "RELEASE\n",
      "PRESS\n",
      "RELEASE\n",
      "PRESS\n",
      "RELEASE\n",
      "PRESS\n",
      "RELEASE\n",
      "PRESS\n",
      "RELEASE\n",
      "PRESS\n",
      "PRESS\n",
      "RELEASE\n",
      "RELEASE\n",
      "PRESS\n",
      "RELEASE\n",
      "PRESS\n",
      "PRESS\n",
      "RELEASE\n",
      "RELEASE\n",
      "PRESS\n",
      "RELEASE\n",
      "PRESS\n",
      "RELEASE\n",
      "PRESS\n",
      "RELEASE\n",
      "PRESS\n",
      "RELEASE\n",
      "PRESS\n",
      "RELEASE\n",
      "PRESS\n",
      "RELEASE\n",
      "PRESS\n",
      "RELEASE\n",
      "PRESS\n",
      "RELEASE\n",
      "PRESS\n",
      "RELEASE\n",
      "PRESS\n",
      "PRESS\n",
      "RELEASE\n",
      "RELEASE\n",
      "PRESS\n",
      "RELEASE\n",
      "PRESS\n",
      "RELEASE\n",
      "PRESS\n",
      "PRESS\n",
      "RELEASE\n",
      "PRESS\n",
      "RELEASE\n",
      "RELEASE\n",
      "PRESS\n",
      "RELEASE\n",
      "PRESS\n",
      "RELEASE\n",
      "PRESS\n",
      "PRESS\n",
      "RELEASE\n",
      "RELEASE\n",
      "PRESS\n",
      "RELEASE\n",
      "PRESS\n",
      "RELEASE\n",
      "PRESS\n",
      "PRESS\n",
      "RELEASE\n",
      "PRESS\n",
      "RELEASE\n",
      "RELEASE\n",
      "PRESS\n",
      "RELEASE\n"
     ]
    }
   ],
   "source": [
    "for key_pair in t:\n",
    "    id = key_pair['action']\n",
    "    print(id)"
   ]
  },
  {
   "cell_type": "code",
   "execution_count": null,
   "metadata": {},
   "outputs": [],
   "source": []
  },
  {
   "cell_type": "code",
   "execution_count": 103,
   "metadata": {},
   "outputs": [],
   "source": [
    "path = '/Users/eddie/Desktop/Semester_Project/demo_test/test_images'\n"
   ]
  },
  {
   "cell_type": "code",
   "execution_count": 104,
   "metadata": {},
   "outputs": [
    {
     "data": {
      "text/plain": [
       "'1568973629.4889011'"
      ]
     },
     "execution_count": 104,
     "metadata": {},
     "output_type": "execute_result"
    }
   ],
   "source": [
    "os.listdir(path)[0][4:-4]"
   ]
  },
  {
   "cell_type": "code",
   "execution_count": 107,
   "metadata": {},
   "outputs": [
    {
     "name": "stdout",
     "output_type": "stream",
     "text": [
      "1568973629.4889011\n",
      "1568973628.8675318\n",
      "1568973629.2063847\n",
      "1568973629.6448643\n",
      "1568973629.2479627\n",
      "1568973629.730054\n",
      "1568973629.983687\n",
      "1568973629.7643929\n",
      "1568973629.2264001\n",
      "1568973629.6846817\n",
      "1568973629.217792\n",
      "1568973629.1664953\n",
      "1568973629.5650723\n",
      "1568973629.9238422\n",
      "1568973629.4286442\n",
      "1568973629.7444785\n",
      "1568973629.8240576\n",
      "1568973629.8839855\n",
      "1568973629.0368354\n",
      "1568973629.0674367\n",
      "1568973629.584926\n",
      "1568973628.9765692\n",
      "1568973629.3080666\n",
      "1568973629.1574354\n",
      "1568973629.3384056\n",
      "1568973629.971102\n",
      "1568973629.0072763\n",
      "1568973628.8560483\n",
      "1568973629.6248317\n",
      "1568973629.804232\n",
      "1568973629.106649\n",
      "1568973629.097151\n",
      "1568973629.1875794\n",
      "1568973629.3856907\n",
      "1568973629.6094162\n",
      "1568973629.278115\n",
      "1568973629.445597\n",
      "1568973629.0468538\n",
      "1568973629.3458354\n",
      "1568973629.5053027\n",
      "1568973629.5492063\n",
      "1568973629.9107854\n",
      "1568973629.7046778\n",
      "1568973629.669704\n",
      "1568973629.286091\n",
      "1568973629.4653697\n",
      "1568973629.127383\n",
      "1568973629.8505795\n",
      "1568973629.398669\n",
      "1568973628.9871294\n",
      "1568973628.9163206\n",
      "1568973628.8275256\n",
      "1568973629.4056149\n",
      "1568973629.368371\n",
      "1568973629.8640277\n",
      "1568973629.266176\n",
      "1568973629.7905164\n",
      "1568973629.525174\n",
      "1568973629.325919\n",
      "1568973629.943679\n"
     ]
    }
   ],
   "source": [
    "frame_time = []\n",
    "for item in os.listdir(path):\n",
    "        #img_index.append(item)\n",
    "    time = float(item[4:-4])\n",
    "    print(time)    \n",
    "    frame_time.append(time)"
   ]
  },
  {
   "cell_type": "code",
   "execution_count": 108,
   "metadata": {},
   "outputs": [
    {
     "data": {
      "text/plain": [
       "['rgb_1568973629.4889011.jpg',\n",
       " 'rgb_1568973628.8675318.jpg',\n",
       " 'rgb_1568973629.2063847.jpg',\n",
       " 'rgb_1568973629.6448643.jpg',\n",
       " 'rgb_1568973629.2479627.jpg',\n",
       " 'rgb_1568973629.730054.jpg',\n",
       " 'rgb_1568973629.983687.jpg',\n",
       " 'rgb_1568973629.7643929.jpg',\n",
       " 'rgb_1568973629.2264001.jpg',\n",
       " 'rgb_1568973629.6846817.jpg',\n",
       " 'rgb_1568973629.217792.jpg',\n",
       " 'rgb_1568973629.1664953.jpg',\n",
       " 'rgb_1568973629.5650723.jpg',\n",
       " 'rgb_1568973629.9238422.jpg',\n",
       " 'rgb_1568973629.4286442.jpg',\n",
       " 'rgb_1568973629.7444785.jpg',\n",
       " 'rgb_1568973629.8240576.jpg',\n",
       " 'rgb_1568973629.8839855.jpg',\n",
       " 'rgb_1568973629.0368354.jpg',\n",
       " 'rgb_1568973629.0674367.jpg',\n",
       " 'rgb_1568973629.584926.jpg',\n",
       " 'rgb_1568973628.9765692.jpg',\n",
       " 'rgb_1568973629.3080666.jpg',\n",
       " 'rgb_1568973629.1574354.jpg',\n",
       " 'rgb_1568973629.3384056.jpg',\n",
       " 'rgb_1568973629.971102.jpg',\n",
       " 'rgb_1568973629.0072763.jpg',\n",
       " 'rgb_1568973628.8560483.jpg',\n",
       " 'rgb_1568973629.6248317.jpg',\n",
       " 'rgb_1568973629.804232.jpg',\n",
       " 'rgb_1568973629.106649.jpg',\n",
       " 'rgb_1568973629.097151.jpg',\n",
       " 'rgb_1568973629.1875794.jpg',\n",
       " 'rgb_1568973629.3856907.jpg',\n",
       " 'rgb_1568973629.6094162.jpg',\n",
       " 'rgb_1568973629.278115.jpg',\n",
       " 'rgb_1568973629.445597.jpg',\n",
       " 'rgb_1568973629.0468538.jpg',\n",
       " 'rgb_1568973629.3458354.jpg',\n",
       " 'rgb_1568973629.5053027.jpg',\n",
       " 'rgb_1568973629.5492063.jpg',\n",
       " 'rgb_1568973629.9107854.jpg',\n",
       " 'rgb_1568973629.7046778.jpg',\n",
       " 'rgb_1568973629.669704.jpg',\n",
       " 'rgb_1568973629.286091.jpg',\n",
       " 'rgb_1568973629.4653697.jpg',\n",
       " 'rgb_1568973629.127383.jpg',\n",
       " 'rgb_1568973629.8505795.jpg',\n",
       " 'rgb_1568973629.398669.jpg',\n",
       " 'rgb_1568973628.9871294.jpg',\n",
       " 'rgb_1568973628.9163206.jpg',\n",
       " 'rgb_1568973628.8275256.jpg',\n",
       " 'rgb_1568973629.4056149.jpg',\n",
       " 'rgb_1568973629.368371.jpg',\n",
       " 'rgb_1568973629.8640277.jpg',\n",
       " 'rgb_1568973629.266176.jpg',\n",
       " 'rgb_1568973629.7905164.jpg',\n",
       " 'rgb_1568973629.525174.jpg',\n",
       " 'rgb_1568973629.325919.jpg',\n",
       " 'rgb_1568973629.943679.jpg']"
      ]
     },
     "execution_count": 108,
     "metadata": {},
     "output_type": "execute_result"
    }
   ],
   "source": [
    "os.listdir(path)"
   ]
  },
  {
   "cell_type": "code",
   "execution_count": 114,
   "metadata": {},
   "outputs": [],
   "source": [
    "    import imageio\n",
    "    path = '/Users/eddie/Desktop/Semester_Project/demo_test/test_images'\n",
    "    #img_index = [ img_index.append() for item in os.listdir(path)]\n",
    "    img_index = []\n",
    "    frame_time = []\n",
    "    for item in os.listdir(path):\n",
    "        img_index.append(item)\n",
    "        time = float(item[4:-4])\n",
    "        frame_time.append(time)\n",
    "\n",
    "    files = [os.path.join(path, '{}'.format(item)) for item in img_index]\n",
    "    frames = [imageio.imread(file) for file in files]"
   ]
  },
  {
   "cell_type": "code",
   "execution_count": 115,
   "metadata": {},
   "outputs": [
    {
     "data": {
      "text/plain": [
       "[1568973629.4889011,\n",
       " 1568973628.8675318,\n",
       " 1568973629.2063847,\n",
       " 1568973629.6448643,\n",
       " 1568973629.2479627,\n",
       " 1568973629.730054,\n",
       " 1568973629.983687,\n",
       " 1568973629.7643929,\n",
       " 1568973629.2264001,\n",
       " 1568973629.6846817,\n",
       " 1568973629.217792,\n",
       " 1568973629.1664953,\n",
       " 1568973629.5650723,\n",
       " 1568973629.9238422,\n",
       " 1568973629.4286442,\n",
       " 1568973629.7444785,\n",
       " 1568973629.8240576,\n",
       " 1568973629.8839855,\n",
       " 1568973629.0368354,\n",
       " 1568973629.0674367,\n",
       " 1568973629.584926,\n",
       " 1568973628.9765692,\n",
       " 1568973629.3080666,\n",
       " 1568973629.1574354,\n",
       " 1568973629.3384056,\n",
       " 1568973629.971102,\n",
       " 1568973629.0072763,\n",
       " 1568973628.8560483,\n",
       " 1568973629.6248317,\n",
       " 1568973629.804232,\n",
       " 1568973629.106649,\n",
       " 1568973629.097151,\n",
       " 1568973629.1875794,\n",
       " 1568973629.3856907,\n",
       " 1568973629.6094162,\n",
       " 1568973629.278115,\n",
       " 1568973629.445597,\n",
       " 1568973629.0468538,\n",
       " 1568973629.3458354,\n",
       " 1568973629.5053027,\n",
       " 1568973629.5492063,\n",
       " 1568973629.9107854,\n",
       " 1568973629.7046778,\n",
       " 1568973629.669704,\n",
       " 1568973629.286091,\n",
       " 1568973629.4653697,\n",
       " 1568973629.127383,\n",
       " 1568973629.8505795,\n",
       " 1568973629.398669,\n",
       " 1568973628.9871294,\n",
       " 1568973628.9163206,\n",
       " 1568973628.8275256,\n",
       " 1568973629.4056149,\n",
       " 1568973629.368371,\n",
       " 1568973629.8640277,\n",
       " 1568973629.266176,\n",
       " 1568973629.7905164,\n",
       " 1568973629.525174,\n",
       " 1568973629.325919,\n",
       " 1568973629.943679]"
      ]
     },
     "execution_count": 115,
     "metadata": {},
     "output_type": "execute_result"
    }
   ],
   "source": [
    "frame_time"
   ]
  },
  {
   "cell_type": "code",
   "execution_count": 116,
   "metadata": {},
   "outputs": [],
   "source": [
    "    path = '/Users/eddie/Desktop/Semester_Project/demo_test/test_images'\n",
    "    #img_index = [ img_index.append() for item in os.listdir(path)]\n",
    "    img_index = []\n",
    "    frame_time = []\n",
    "    imgs = os.listdir(path)\n",
    "    imgs.sort(key=lambda x: float(x[4:-4]))\n",
    "    for item in imgs:\n",
    "        img_index.append(item)\n",
    "        time = float(item[4:-4])\n",
    "        frame_time.append(time)"
   ]
  },
  {
   "cell_type": "code",
   "execution_count": 117,
   "metadata": {},
   "outputs": [
    {
     "data": {
      "text/plain": [
       "[1568973628.8275256,\n",
       " 1568973628.8560483,\n",
       " 1568973628.8675318,\n",
       " 1568973628.9163206,\n",
       " 1568973628.9765692,\n",
       " 1568973628.9871294,\n",
       " 1568973629.0072763,\n",
       " 1568973629.0368354,\n",
       " 1568973629.0468538,\n",
       " 1568973629.0674367,\n",
       " 1568973629.097151,\n",
       " 1568973629.106649,\n",
       " 1568973629.127383,\n",
       " 1568973629.1574354,\n",
       " 1568973629.1664953,\n",
       " 1568973629.1875794,\n",
       " 1568973629.2063847,\n",
       " 1568973629.217792,\n",
       " 1568973629.2264001,\n",
       " 1568973629.2479627,\n",
       " 1568973629.266176,\n",
       " 1568973629.278115,\n",
       " 1568973629.286091,\n",
       " 1568973629.3080666,\n",
       " 1568973629.325919,\n",
       " 1568973629.3384056,\n",
       " 1568973629.3458354,\n",
       " 1568973629.368371,\n",
       " 1568973629.3856907,\n",
       " 1568973629.398669,\n",
       " 1568973629.4056149,\n",
       " 1568973629.4286442,\n",
       " 1568973629.445597,\n",
       " 1568973629.4653697,\n",
       " 1568973629.4889011,\n",
       " 1568973629.5053027,\n",
       " 1568973629.525174,\n",
       " 1568973629.5492063,\n",
       " 1568973629.5650723,\n",
       " 1568973629.584926,\n",
       " 1568973629.6094162,\n",
       " 1568973629.6248317,\n",
       " 1568973629.6448643,\n",
       " 1568973629.669704,\n",
       " 1568973629.6846817,\n",
       " 1568973629.7046778,\n",
       " 1568973629.730054,\n",
       " 1568973629.7444785,\n",
       " 1568973629.7643929,\n",
       " 1568973629.7905164,\n",
       " 1568973629.804232,\n",
       " 1568973629.8240576,\n",
       " 1568973629.8505795,\n",
       " 1568973629.8640277,\n",
       " 1568973629.8839855,\n",
       " 1568973629.9107854,\n",
       " 1568973629.9238422,\n",
       " 1568973629.943679,\n",
       " 1568973629.971102,\n",
       " 1568973629.983687]"
      ]
     },
     "execution_count": 117,
     "metadata": {},
     "output_type": "execute_result"
    }
   ],
   "source": [
    "frame_time"
   ]
  },
  {
   "cell_type": "code",
   "execution_count": 118,
   "metadata": {},
   "outputs": [
    {
     "data": {
      "text/plain": [
       "7"
      ]
     },
     "execution_count": 118,
     "metadata": {},
     "output_type": "execute_result"
    }
   ],
   "source": [
    "abs(-7)"
   ]
  },
  {
   "cell_type": "code",
   "execution_count": 119,
   "metadata": {},
   "outputs": [
    {
     "data": {
      "text/plain": [
       "56"
      ]
     },
     "execution_count": 119,
     "metadata": {},
     "output_type": "execute_result"
    }
   ],
   "source": [
    "max(5,6,7,1,56,23)"
   ]
  },
  {
   "cell_type": "code",
   "execution_count": 121,
   "metadata": {},
   "outputs": [
    {
     "data": {
      "text/plain": [
       "60"
      ]
     },
     "execution_count": 121,
     "metadata": {},
     "output_type": "execute_result"
    }
   ],
   "source": [
    "len(frame_time)"
   ]
  },
  {
   "cell_type": "code",
   "execution_count": 129,
   "metadata": {},
   "outputs": [
    {
     "data": {
      "text/plain": [
       "[1568973628.8275256,\n",
       " 1568973628.8560483,\n",
       " 1568973628.8675318,\n",
       " 1568973628.9163206,\n",
       " 1568973628.9765692]"
      ]
     },
     "execution_count": 129,
     "metadata": {},
     "output_type": "execute_result"
    }
   ],
   "source": [
    "frame_time[0:5]"
   ]
  },
  {
   "cell_type": "code",
   "execution_count": 130,
   "metadata": {},
   "outputs": [],
   "source": [
    "def load_images():\n",
    "    #\n",
    "    path = '/Users/eddie/Desktop/Semester_Project/demo_test/test_images'\n",
    "    #img_index = [ img_index.append() for item in os.listdir(path)]\n",
    "    img_index = []\n",
    "    frame_time = []\n",
    "    imgs = os.listdir(path) #os.listdir will mess up the order, hence the following sort function\n",
    "    imgs.sort(key=lambda x: float(x[4:-4]))\n",
    "    for item in imgs:\n",
    "        img_index.append(item)\n",
    "        time = float(item[4:-4])\n",
    "        frame_time.append(time)\n",
    "\n",
    "    files = [os.path.join(path, '{}'.format(item)) for item in img_index]\n",
    "    frames = [imageio.imread(file) for file in files]\n",
    "\n",
    "    return frames, frame_time"
   ]
  },
  {
   "cell_type": "code",
   "execution_count": 140,
   "metadata": {},
   "outputs": [],
   "source": [
    "[frames1, frame_time1] = load_images()"
   ]
  },
  {
   "cell_type": "code",
   "execution_count": 141,
   "metadata": {},
   "outputs": [],
   "source": [
    "frames, frame_time = load_images()"
   ]
  },
  {
   "cell_type": "code",
   "execution_count": 145,
   "metadata": {},
   "outputs": [
    {
     "name": "stdout",
     "output_type": "stream",
     "text": [
      "[1568973628.8275256, 1568973628.8560483, 1568973628.8675318, 1568973628.9163206, 1568973628.9765692, 1568973628.9871294, 1568973629.0072763, 1568973629.0368354, 1568973629.0468538, 1568973629.0674367, 1568973629.097151, 1568973629.106649, 1568973629.127383, 1568973629.1574354, 1568973629.1664953, 1568973629.1875794, 1568973629.2063847, 1568973629.217792, 1568973629.2264001, 1568973629.2479627, 1568973629.266176, 1568973629.278115, 1568973629.286091, 1568973629.3080666, 1568973629.325919, 1568973629.3384056, 1568973629.3458354, 1568973629.368371, 1568973629.3856907, 1568973629.398669, 1568973629.4056149, 1568973629.4286442, 1568973629.445597, 1568973629.4653697, 1568973629.4889011, 1568973629.5053027, 1568973629.525174, 1568973629.5492063, 1568973629.5650723, 1568973629.584926, 1568973629.6094162, 1568973629.6248317, 1568973629.6448643, 1568973629.669704, 1568973629.6846817, 1568973629.7046778, 1568973629.730054, 1568973629.7444785, 1568973629.7643929, 1568973629.7905164, 1568973629.804232, 1568973629.8240576, 1568973629.8505795, 1568973629.8640277, 1568973629.8839855, 1568973629.9107854, 1568973629.9238422, 1568973629.943679, 1568973629.971102, 1568973629.983687]\n"
     ]
    }
   ],
   "source": [
    "print(frame_time)"
   ]
  },
  {
   "cell_type": "code",
   "execution_count": 146,
   "metadata": {},
   "outputs": [
    {
     "name": "stdout",
     "output_type": "stream",
     "text": [
      "[1568973628.8275256, 1568973628.8560483, 1568973628.8675318, 1568973628.9163206, 1568973628.9765692, 1568973628.9871294, 1568973629.0072763, 1568973629.0368354, 1568973629.0468538, 1568973629.0674367, 1568973629.097151, 1568973629.106649, 1568973629.127383, 1568973629.1574354, 1568973629.1664953, 1568973629.1875794, 1568973629.2063847, 1568973629.217792, 1568973629.2264001, 1568973629.2479627, 1568973629.266176, 1568973629.278115, 1568973629.286091, 1568973629.3080666, 1568973629.325919, 1568973629.3384056, 1568973629.3458354, 1568973629.368371, 1568973629.3856907, 1568973629.398669, 1568973629.4056149, 1568973629.4286442, 1568973629.445597, 1568973629.4653697, 1568973629.4889011, 1568973629.5053027, 1568973629.525174, 1568973629.5492063, 1568973629.5650723, 1568973629.584926, 1568973629.6094162, 1568973629.6248317, 1568973629.6448643, 1568973629.669704, 1568973629.6846817, 1568973629.7046778, 1568973629.730054, 1568973629.7444785, 1568973629.7643929, 1568973629.7905164, 1568973629.804232, 1568973629.8240576, 1568973629.8505795, 1568973629.8640277, 1568973629.8839855, 1568973629.9107854, 1568973629.9238422, 1568973629.943679, 1568973629.971102, 1568973629.983687]\n"
     ]
    }
   ],
   "source": [
    "print(frame_time1)"
   ]
  },
  {
   "cell_type": "code",
   "execution_count": null,
   "metadata": {},
   "outputs": [],
   "source": []
  }
 ],
 "metadata": {
  "kernelspec": {
   "display_name": "Python [conda env:pytorch_learn]",
   "language": "python",
   "name": "conda-env-pytorch_learn-py"
  },
  "language_info": {
   "codemirror_mode": {
    "name": "ipython",
    "version": 3
   },
   "file_extension": ".py",
   "mimetype": "text/x-python",
   "name": "python",
   "nbconvert_exporter": "python",
   "pygments_lexer": "ipython3",
   "version": "3.7.4"
  }
 },
 "nbformat": 4,
 "nbformat_minor": 2
}
